{
 "cells": [
  {
   "cell_type": "markdown",
   "metadata": {},
   "source": [
    "**Design Patterns**\n",
    "\n",
    "SOLID Principles, a few of the design patterns that can be used in test automation\n",
    " * SRP – Single Responsibility Principle\n",
    "     * \"A class should only have a single responsibility, that is, only changes to one part of the software's specification should be able to affect the specification of the class\".\n",
    " * OCP – Open/Closed Principle\n",
    "     * \"Software entities ... should be open for extension, but closed for modification.\"\n",
    " * LSP – Liskov Substitution Principle\n",
    "     * \"Objects in a program should be replaceable with instances of their subtypes without altering the correctness of that program.\" \n",
    " * ISP – Interface Segregation Principle\n",
    "     * \"Many client-specific interfaces are better than one general-purpose interface.\"[4]\n",
    " * DIP – Dependency Inversion Principle\n",
    "     * One should \"depend upon abstractions, not concretions\"\n",
    " \n",
    "\n",
    "**Resources**\n",
    " * https://en.wikipedia.org/wiki/SOLID\n",
    " * https://dev.to/ezzy1337/a-pythonic-guide-to-solid-design-principles-4c8i\n",
    " * https://www.digitalocean.com/community/conceptual_articles/s-o-l-i-d-the-first-five-principles-of-object-oriented-design#single-responsibility-principle\n"
   ]
  },
  {
   "cell_type": "code",
   "execution_count": null,
   "metadata": {},
   "outputs": [],
   "source": []
  },
  {
   "cell_type": "markdown",
   "metadata": {},
   "source": [
    "**Frameworks**\n",
    "    \n",
    " * What is a framework?\n",
    "     * A framework is a set of protocols, rules, standards & guidelines to follow\n",
    "     * Leverage the benefits of the scaffolding provided by the framework\n",
    " * think of a framework as instructions for conference attendees, or elevator safety\n",
    "     * arrive to your seats 5 minutes prior to session start\n",
    "     * max weight for elevator = 800lbs\n",
    "     * etc\n",
    " * aka follow the guidelines and we'll all be better for it\n",
    "     \n",
    "     \n",
    "     \n",
    "     \n",
    "*Resources:*\n",
    "* https://www.softwaretestinghelp.com/test-automation-frameworks-selenium-tutorial-20\n",
    "* https://smartbear.com/learn/automated-testing/test-automation-frameworks/\n",
    "* https://www.clariontech.com/blog/what-are-test-automation-frameworks-and-types\n",
    "* https://www.guru99.com/test-automation-framework.html\n",
    "* \n",
    "     \n",
    "     \n",
    "     \n",
    "     \n",
    "     \n",
    "     \n",
    "     \n",
    "     \n"
   ]
  },
  {
   "cell_type": "markdown",
   "metadata": {},
   "source": [
    "**Types of Frameworks**\n",
    "* Linear Automation Framework, or Linear scripting\n",
    "    * Record & Playback\n",
    "        * Pros\n",
    "            * Fast\n",
    "            * Not much coding knowledge needed\n",
    "            * Quick ramp up on the test tool\n",
    "        * Cons\n",
    "            * Brittle\n",
    "            * Not much reuse\n",
    "            * hardcoded test data\n",
    "            * Tough to maintain\n",
    "* Modular Based Testing Framework\n",
    "    * Break tests into small chunks of functionality\n",
    "    * Test each bit in isolation\n",
    "    * Combine chunks into \n",
    "    * Key element is to build and abstraction layer\n",
    "        * So any changes made in individual sections won't affect the overarching module\n",
    "            * re: Abstraction - 'the process of formulating generalised ideas or concepts by extracting common qualities from specific examples'\n",
    "                * Read More here: http://www.automated-testing.com/frameworks/the-concept-of-abstraction-in-automated-testing/ \n",
    "    * Pros\n",
    "        * Easier maintance & scalability\n",
    "        * Test scripts can be independent\n",
    "    * Cons\n",
    "        * Requires more time to analyze potential reusable flows\n",
    "      \n",
    "    \n",
    "* (Test) Library Architecture Framework\n",
    "    * ..\n",
    "* Data-Driven Framework\n",
    "    * ..\n",
    "* Keyword or Table-Driven Framework\n",
    "    * ..\n",
    "* Hybrid Testing Framework\n",
    "    * ..\n"
   ]
  },
  {
   "cell_type": "markdown",
   "metadata": {},
   "source": [
    "[Placeholder]"
   ]
  },
  {
   "cell_type": "code",
   "execution_count": null,
   "metadata": {},
   "outputs": [],
   "source": []
  },
  {
   "cell_type": "markdown",
   "metadata": {},
   "source": [
    "**Test Architecture**"
   ]
  },
  {
   "cell_type": "code",
   "execution_count": null,
   "metadata": {},
   "outputs": [],
   "source": []
  }
 ],
 "metadata": {
  "kernelspec": {
   "display_name": "Python 3",
   "language": "python",
   "name": "python3"
  },
  "language_info": {
   "codemirror_mode": {
    "name": "ipython",
    "version": 3
   },
   "file_extension": ".py",
   "mimetype": "text/x-python",
   "name": "python",
   "nbconvert_exporter": "python",
   "pygments_lexer": "ipython3",
   "version": "3.7.6"
  }
 },
 "nbformat": 4,
 "nbformat_minor": 4
}
