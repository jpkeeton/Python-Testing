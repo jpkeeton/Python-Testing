{
 "cells": [
  {
   "cell_type": "markdown",
   "metadata": {},
   "source": [
    "**Design Patterns**\n",
    "\n",
    "SOLID Principles, a few of the design patterns that can be used in test automation\n",
    " * SRP – Single Responsibility Principle\n",
    "     * A class should only have a single responsibility, that is, only changes to one part of the software's specification should be able to affect the specification of the class.\n",
    " * OCP – Open/Closed Principle\n",
    "     * \"Software entities ... should be open for extension, but closed for modification.\"\n",
    " * LSP – Liskov Substitution Principle\n",
    "     * \"Objects in a program should be replaceable with instances of their subtypes without altering the correctness of that program.\" \n",
    " * ISP – Interface Segregation Principle\n",
    "     * \"Many client-specific interfaces are better than one general-purpose interface.\"[4]\n",
    " * DIP – Dependency Inversion Principle\n",
    "     * One should \"depend upon abstractions, not concretions\"\n",
    " \n",
    "\n",
    "**Resources**\n",
    " * https://en.wikipedia.org/wiki/SOLID\n",
    " * https://dev.to/ezzy1337/a-pythonic-guide-to-solid-design-principles-4c8i\n",
    " * https://www.digitalocean.com/community/conceptual_articles/s-o-l-i-d-the-first-five-principles-of-object-oriented-design#single-responsibility-principle\n"
   ]
  },
  {
   "cell_type": "code",
   "execution_count": null,
   "metadata": {},
   "outputs": [],
   "source": []
  },
  {
   "cell_type": "markdown",
   "metadata": {},
   "source": [
    "**Frameworks**\n",
    "    \n",
    " * What is a framework?\n",
    "     * A framework is...."
   ]
  },
  {
   "cell_type": "code",
   "execution_count": null,
   "metadata": {},
   "outputs": [],
   "source": []
  },
  {
   "cell_type": "markdown",
   "metadata": {},
   "source": [
    "**Placeholder**\n"
   ]
  }
 ],
 "metadata": {
  "kernelspec": {
   "display_name": "Python 3",
   "language": "python",
   "name": "python3"
  },
  "language_info": {
   "codemirror_mode": {
    "name": "ipython",
    "version": 3
   },
   "file_extension": ".py",
   "mimetype": "text/x-python",
   "name": "python",
   "nbconvert_exporter": "python",
   "pygments_lexer": "ipython3",
   "version": "3.7.6"
  }
 },
 "nbformat": 4,
 "nbformat_minor": 4
}
